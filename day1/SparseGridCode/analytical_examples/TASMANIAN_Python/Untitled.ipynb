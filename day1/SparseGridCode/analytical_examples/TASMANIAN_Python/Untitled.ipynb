{
 "cells": [
  {
   "cell_type": "code",
   "execution_count": null,
   "metadata": {},
   "outputs": [],
   "source": []
  },
  {
   "cell_type": "code",
   "execution_count": 1,
   "metadata": {},
   "outputs": [
    {
     "name": "stdout",
     "output_type": "stream",
     "text": [
      "TasmanianSG version: 4.0\n",
      "TasmanianSG license: BSD 3-Clause\n"
     ]
    },
    {
     "ename": "OSError",
     "evalue": "[WinError 126] The specified module could not be found",
     "output_type": "error",
     "traceback": [
      "\u001b[1;31m---------------------------------------------------------------------------\u001b[0m",
      "\u001b[1;31mOSError\u001b[0m                                   Traceback (most recent call last)",
      "\u001b[1;32m<ipython-input-1-07393d6c5250>\u001b[0m in \u001b[0;36m<module>\u001b[1;34m()\u001b[0m\n\u001b[0;32m     10\u001b[0m \u001b[0mprint\u001b[0m\u001b[1;33m(\u001b[0m\u001b[1;34m\"TasmanianSG license: {0:s}\"\u001b[0m\u001b[1;33m.\u001b[0m\u001b[0mformat\u001b[0m\u001b[1;33m(\u001b[0m\u001b[0mTasmanianSG\u001b[0m\u001b[1;33m.\u001b[0m\u001b[0m__license__\u001b[0m\u001b[1;33m)\u001b[0m\u001b[1;33m)\u001b[0m\u001b[1;33m\u001b[0m\u001b[0m\n\u001b[0;32m     11\u001b[0m \u001b[1;33m\u001b[0m\u001b[0m\n\u001b[1;32m---> 12\u001b[1;33m \u001b[0mgrid\u001b[0m  \u001b[1;33m=\u001b[0m \u001b[0mTasmanianSG\u001b[0m\u001b[1;33m.\u001b[0m\u001b[0mTasmanianSparseGrid\u001b[0m\u001b[1;33m(\u001b[0m\u001b[1;33m)\u001b[0m\u001b[1;33m\u001b[0m\u001b[0m\n\u001b[0m\u001b[0;32m     13\u001b[0m \u001b[0mgrid1\u001b[0m \u001b[1;33m=\u001b[0m \u001b[0mTasmanianSG\u001b[0m\u001b[1;33m.\u001b[0m\u001b[0mTasmanianSparseGrid\u001b[0m\u001b[1;33m(\u001b[0m\u001b[1;33m)\u001b[0m\u001b[1;33m\u001b[0m\u001b[0m\n\u001b[0;32m     14\u001b[0m \u001b[0mgrid2\u001b[0m \u001b[1;33m=\u001b[0m \u001b[0mTasmanianSG\u001b[0m\u001b[1;33m.\u001b[0m\u001b[0mTasmanianSparseGrid\u001b[0m\u001b[1;33m(\u001b[0m\u001b[1;33m)\u001b[0m\u001b[1;33m\u001b[0m\u001b[0m\n",
      "\u001b[1;32mF:\\ANU\\Chicago OSE boot camp\\High_Performance_Computing\\day1\\SparseGridCode\\analytical_examples\\TASMANIAN_Python\\TasmanianSG.py\u001b[0m in \u001b[0;36m__init__\u001b[1;34m(self, tasmanian_library)\u001b[0m\n\u001b[0;32m    105\u001b[0m         '''\n\u001b[0;32m    106\u001b[0m         \u001b[1;32mif\u001b[0m \u001b[1;33m(\u001b[0m\u001b[0misinstance\u001b[0m\u001b[1;33m(\u001b[0m\u001b[0mtasmanian_library\u001b[0m\u001b[1;33m,\u001b[0m \u001b[0mint\u001b[0m\u001b[1;33m)\u001b[0m\u001b[1;33m)\u001b[0m\u001b[1;33m:\u001b[0m\u001b[1;33m\u001b[0m\u001b[0m\n\u001b[1;32m--> 107\u001b[1;33m             \u001b[0mself\u001b[0m\u001b[1;33m.\u001b[0m\u001b[0mpLibTSG\u001b[0m \u001b[1;33m=\u001b[0m \u001b[0mcdll\u001b[0m\u001b[1;33m.\u001b[0m\u001b[0mLoadLibrary\u001b[0m\u001b[1;33m(\u001b[0m\u001b[1;34m\"../../TasmanianSparseGrids/libtasmaniansparsegrid.so\"\u001b[0m\u001b[1;33m)\u001b[0m\u001b[1;33m\u001b[0m\u001b[0m\n\u001b[0m\u001b[0;32m    108\u001b[0m         \u001b[1;32melif\u001b[0m \u001b[1;33m(\u001b[0m\u001b[0misinstance\u001b[0m\u001b[1;33m(\u001b[0m\u001b[0mtasmanian_library\u001b[0m\u001b[1;33m,\u001b[0m \u001b[0mbasestring\u001b[0m\u001b[1;33m)\u001b[0m\u001b[1;33m)\u001b[0m\u001b[1;33m:\u001b[0m\u001b[1;33m\u001b[0m\u001b[0m\n\u001b[0;32m    109\u001b[0m             \u001b[0mself\u001b[0m\u001b[1;33m.\u001b[0m\u001b[0mpLibTSG\u001b[0m \u001b[1;33m=\u001b[0m \u001b[0mcdll\u001b[0m\u001b[1;33m.\u001b[0m\u001b[0mLoadLibrary\u001b[0m\u001b[1;33m(\u001b[0m\u001b[0mtasmanian_library\u001b[0m\u001b[1;33m)\u001b[0m\u001b[1;33m\u001b[0m\u001b[0m\n",
      "\u001b[1;32mF:\\Anaconda\\lib\\ctypes\\__init__.py\u001b[0m in \u001b[0;36mLoadLibrary\u001b[1;34m(self, name)\u001b[0m\n\u001b[0;32m    424\u001b[0m \u001b[1;33m\u001b[0m\u001b[0m\n\u001b[0;32m    425\u001b[0m     \u001b[1;32mdef\u001b[0m \u001b[0mLoadLibrary\u001b[0m\u001b[1;33m(\u001b[0m\u001b[0mself\u001b[0m\u001b[1;33m,\u001b[0m \u001b[0mname\u001b[0m\u001b[1;33m)\u001b[0m\u001b[1;33m:\u001b[0m\u001b[1;33m\u001b[0m\u001b[0m\n\u001b[1;32m--> 426\u001b[1;33m         \u001b[1;32mreturn\u001b[0m \u001b[0mself\u001b[0m\u001b[1;33m.\u001b[0m\u001b[0m_dlltype\u001b[0m\u001b[1;33m(\u001b[0m\u001b[0mname\u001b[0m\u001b[1;33m)\u001b[0m\u001b[1;33m\u001b[0m\u001b[0m\n\u001b[0m\u001b[0;32m    427\u001b[0m \u001b[1;33m\u001b[0m\u001b[0m\n\u001b[0;32m    428\u001b[0m \u001b[0mcdll\u001b[0m \u001b[1;33m=\u001b[0m \u001b[0mLibraryLoader\u001b[0m\u001b[1;33m(\u001b[0m\u001b[0mCDLL\u001b[0m\u001b[1;33m)\u001b[0m\u001b[1;33m\u001b[0m\u001b[0m\n",
      "\u001b[1;32mF:\\Anaconda\\lib\\ctypes\\__init__.py\u001b[0m in \u001b[0;36m__init__\u001b[1;34m(self, name, mode, handle, use_errno, use_last_error)\u001b[0m\n\u001b[0;32m    346\u001b[0m \u001b[1;33m\u001b[0m\u001b[0m\n\u001b[0;32m    347\u001b[0m         \u001b[1;32mif\u001b[0m \u001b[0mhandle\u001b[0m \u001b[1;32mis\u001b[0m \u001b[1;32mNone\u001b[0m\u001b[1;33m:\u001b[0m\u001b[1;33m\u001b[0m\u001b[0m\n\u001b[1;32m--> 348\u001b[1;33m             \u001b[0mself\u001b[0m\u001b[1;33m.\u001b[0m\u001b[0m_handle\u001b[0m \u001b[1;33m=\u001b[0m \u001b[0m_dlopen\u001b[0m\u001b[1;33m(\u001b[0m\u001b[0mself\u001b[0m\u001b[1;33m.\u001b[0m\u001b[0m_name\u001b[0m\u001b[1;33m,\u001b[0m \u001b[0mmode\u001b[0m\u001b[1;33m)\u001b[0m\u001b[1;33m\u001b[0m\u001b[0m\n\u001b[0m\u001b[0;32m    349\u001b[0m         \u001b[1;32melse\u001b[0m\u001b[1;33m:\u001b[0m\u001b[1;33m\u001b[0m\u001b[0m\n\u001b[0;32m    350\u001b[0m             \u001b[0mself\u001b[0m\u001b[1;33m.\u001b[0m\u001b[0m_handle\u001b[0m \u001b[1;33m=\u001b[0m \u001b[0mhandle\u001b[0m\u001b[1;33m\u001b[0m\u001b[0m\n",
      "\u001b[1;31mOSError\u001b[0m: [WinError 126] The specified module could not be found"
     ]
    }
   ],
   "source": [
    "import TasmanianSG\n",
    "import numpy as np\n",
    "\n",
    "# imports specifically needed by the examples\n",
    "import math\n",
    "from random import uniform\n",
    "from datetime import datetime\n",
    "\n",
    "print(\"TasmanianSG version: {0:s}\".format(TasmanianSG.__version__))\n",
    "print(\"TasmanianSG license: {0:s}\".format(TasmanianSG.__license__))\n",
    "\n",
    "grid  = TasmanianSG.TasmanianSparseGrid()\n",
    "grid1 = TasmanianSG.TasmanianSparseGrid()\n",
    "grid2 = TasmanianSG.TasmanianSparseGrid()"
   ]
  },
  {
   "cell_type": "code",
   "execution_count": null,
   "metadata": {},
   "outputs": [],
   "source": [
    "points = range(1000, 10001, 10)\n",
    "for point in points\n",
    "    # 1000 2-dimensional sample points \n",
    "    aPnts = np.empty([point, 2])  \n",
    "    for iI in range(point):\n",
    "        for iJ in range(2):\n",
    "            aPnts[iI][iJ] = uniform(-1.0, 1.0)\n",
    "\n",
    "    # Result\n",
    "    aTres = np.empty([point,])\n",
    "    for iI in range(point):\n",
    "        aTres[iI] = math.cos(0.5 * math.pi * aPnts[iI][0]) * math.cos(0.5 * math.pi * aPnts[iI][1])\n",
    "\n",
    "    # Sparse Grid with dimension 2 and 1 output and refinement level 5\n",
    "    iDim = 2\n",
    "    iOut = 1\n",
    "    iDepth = 5\n",
    "    which_basis = 1 #1= linear basis functions -> Check the manual for other options\n",
    "\n",
    "    print(\"\\n-------------------------------------------------------------------------------------------------\")\n",
    "    print(\"Example 1 for OSM: interpolate f(x,y) = cos(0.5 * pi * x) * cos(0.5 * pi * y)\")\n",
    "    print(\"       using fixed sparse grid with depth {0:1d}\".format(iDepth))\n",
    "    print(\"       the error is estimated as the maximum from 1000 random points\\n\")\n",
    "\n",
    "    # construct sparse grid\n",
    "    grid.makeLocalPolynomialGrid(iDim, iOut, iDepth, which_basis, \"localp\")\n",
    "    aPoints = grid.getPoints()\n",
    "    iNumP1 = aPoints.shape[0]\n",
    "    aVals = np.empty([aPoints.shape[0], 1])\n",
    "    for iI in range(aPoints.shape[0]):\n",
    "        aVals[iI] = math.cos(0.5 * math.pi * aPoints[iI][0]) * math.cos(0.5 * math.pi * aPoints[iI][1])\n",
    "    grid.loadNeededPoints(aVals)\n",
    "\n",
    "    # compute the error\n",
    "    aRes = grid.evaluateBatch(aPnts)\n",
    "    fError1 = max(np.fabs(aRes[:,0] - aTres))\n",
    "    print(\" For localp    Number of points: {0:1d}   Max. Error: {1:1.16e}\".format(iNumP1, fError1))"
   ]
  }
 ],
 "metadata": {
  "kernelspec": {
   "display_name": "Python 3",
   "language": "python",
   "name": "python3"
  },
  "language_info": {
   "codemirror_mode": {
    "name": "ipython",
    "version": 3
   },
   "file_extension": ".py",
   "mimetype": "text/x-python",
   "name": "python",
   "nbconvert_exporter": "python",
   "pygments_lexer": "ipython3",
   "version": "3.6.4"
  }
 },
 "nbformat": 4,
 "nbformat_minor": 2
}
